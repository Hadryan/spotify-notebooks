{
 "cells": [
  {
   "cell_type": "code",
   "execution_count": 1,
   "metadata": {},
   "outputs": [
    {
     "data": {
      "text/plain": [
       "True"
      ]
     },
     "execution_count": 1,
     "metadata": {},
     "output_type": "execute_result"
    }
   ],
   "source": [
    "import os\n",
    "import time\n",
    "import pickle\n",
    "import pandas as pd\n",
    "import numpy as np\n",
    "\n",
    "import spotipy\n",
    "from spotipy.oauth2 import SpotifyClientCredentials\n",
    "import spotipy.util as util\n",
    "\n",
    "from matplotlib import pyplot as plt\n",
    "import seaborn as sns\n",
    "sns.set()\n",
    "\n",
    "import random\n",
    "random.seed(1333)\n",
    "\n",
    "from dotenv import load_dotenv\n",
    "load_dotenv()\n"
   ]
  },
  {
   "cell_type": "markdown",
   "metadata": {},
   "source": [
    "## authenticating the spotify client\n",
    "your can get your clientId and secret from http://developers.spotify.com/"
   ]
  },
  {
   "cell_type": "code",
   "execution_count": 2,
   "metadata": {},
   "outputs": [],
   "source": [
    "cid = os.environ[\"SPOTIFY_CID\"]\n",
    "secret = os.environ[\"SPOTIFY_SECRET\"]   \n",
    "username = os.environ[\"SPOTIFY_USERNAME\"]   \n",
    "scope = 'user-library-read playlist-modify-public playlist-read-private user-read-currently-playing user-read-recently-played user-top-read'\n",
    "redirect_uri = 'http://localhost:8000/connect'\n",
    "\n",
    "token = util.prompt_for_user_token(username, scope, cid, secret, redirect_uri)\n",
    "sp = spotipy.Spotify(auth=token)"
   ]
  },
  {
   "cell_type": "markdown",
   "metadata": {},
   "source": [
    "## trying out endpoints\n",
    "\n",
    "### top tracks "
   ]
  },
  {
   "cell_type": "code",
   "execution_count": 3,
   "metadata": {},
   "outputs": [
    {
     "data": {
      "text/html": [
       "<div>\n",
       "<style scoped>\n",
       "    .dataframe tbody tr th:only-of-type {\n",
       "        vertical-align: middle;\n",
       "    }\n",
       "\n",
       "    .dataframe tbody tr th {\n",
       "        vertical-align: top;\n",
       "    }\n",
       "\n",
       "    .dataframe thead th {\n",
       "        text-align: right;\n",
       "    }\n",
       "</style>\n",
       "<table border=\"1\" class=\"dataframe\">\n",
       "  <thead>\n",
       "    <tr style=\"text-align: right;\">\n",
       "      <th></th>\n",
       "      <th>track_id</th>\n",
       "      <th>track_name</th>\n",
       "    </tr>\n",
       "  </thead>\n",
       "  <tbody>\n",
       "    <tr>\n",
       "      <th>0</th>\n",
       "      <td>3fnqNxjN7o0tJe7zOQZV68</td>\n",
       "      <td>Catastrophist</td>\n",
       "    </tr>\n",
       "    <tr>\n",
       "      <th>1</th>\n",
       "      <td>7kF76Dlhew7jaUxaBIZpIQ</td>\n",
       "      <td>Nomad</td>\n",
       "    </tr>\n",
       "    <tr>\n",
       "      <th>2</th>\n",
       "      <td>3kBD2xHIqKWXjLAGidDTSz</td>\n",
       "      <td>Benz Truck (гелик)</td>\n",
       "    </tr>\n",
       "    <tr>\n",
       "      <th>3</th>\n",
       "      <td>3mpZzg6fdRM1uUlkLZafVH</td>\n",
       "      <td>Cross Off</td>\n",
       "    </tr>\n",
       "    <tr>\n",
       "      <th>4</th>\n",
       "      <td>5DJTYOAHZEKjNqXpOwnomi</td>\n",
       "      <td>None Shall Pass</td>\n",
       "    </tr>\n",
       "  </tbody>\n",
       "</table>\n",
       "</div>"
      ],
      "text/plain": [
       "                 track_id          track_name\n",
       "0  3fnqNxjN7o0tJe7zOQZV68       Catastrophist\n",
       "1  7kF76Dlhew7jaUxaBIZpIQ               Nomad\n",
       "2  3kBD2xHIqKWXjLAGidDTSz  Benz Truck (гелик)\n",
       "3  3mpZzg6fdRM1uUlkLZafVH           Cross Off\n",
       "4  5DJTYOAHZEKjNqXpOwnomi     None Shall Pass"
      ]
     },
     "execution_count": 3,
     "metadata": {},
     "output_type": "execute_result"
    }
   ],
   "source": [
    "top_tracks_data =sp.current_user_top_tracks(limit=20, offset=0, time_range='medium_term')\n",
    "top_tracks_df = pd.DataFrame(columns=[\"track_id\",\"track_name\"])\n",
    "\n",
    "for track in top_tracks_data[\"items\"]:\n",
    "    top_tracks_df = top_tracks_df.append( {\n",
    "                \"track_id\": track[\"id\"],\n",
    "                \"track_name\": track[\"name\"],\n",
    "               }\n",
    "            ,ignore_index=True)\n",
    "\n",
    "    \n",
    "top_tracks_df.head(5)"
   ]
  },
  {
   "cell_type": "markdown",
   "metadata": {},
   "source": [
    "### Audio features"
   ]
  },
  {
   "cell_type": "code",
   "execution_count": 4,
   "metadata": {},
   "outputs": [
    {
     "data": {
      "text/html": [
       "<div>\n",
       "<style scoped>\n",
       "    .dataframe tbody tr th:only-of-type {\n",
       "        vertical-align: middle;\n",
       "    }\n",
       "\n",
       "    .dataframe tbody tr th {\n",
       "        vertical-align: top;\n",
       "    }\n",
       "\n",
       "    .dataframe thead th {\n",
       "        text-align: right;\n",
       "    }\n",
       "</style>\n",
       "<table border=\"1\" class=\"dataframe\">\n",
       "  <thead>\n",
       "    <tr style=\"text-align: right;\">\n",
       "      <th></th>\n",
       "      <th>danceability</th>\n",
       "      <th>energy</th>\n",
       "      <th>key</th>\n",
       "      <th>loudness</th>\n",
       "      <th>mode</th>\n",
       "      <th>speechiness</th>\n",
       "      <th>acousticness</th>\n",
       "      <th>instrumentalness</th>\n",
       "      <th>liveness</th>\n",
       "      <th>valence</th>\n",
       "      <th>tempo</th>\n",
       "      <th>duration_ms</th>\n",
       "      <th>time_signature</th>\n",
       "    </tr>\n",
       "  </thead>\n",
       "  <tbody>\n",
       "    <tr>\n",
       "      <th>0</th>\n",
       "      <td>0.392</td>\n",
       "      <td>0.95</td>\n",
       "      <td>8</td>\n",
       "      <td>-3.52</td>\n",
       "      <td>0</td>\n",
       "      <td>0.0922</td>\n",
       "      <td>0.000095</td>\n",
       "      <td>0.000252</td>\n",
       "      <td>0.188</td>\n",
       "      <td>0.631</td>\n",
       "      <td>172.963</td>\n",
       "      <td>206373</td>\n",
       "      <td>4</td>\n",
       "    </tr>\n",
       "  </tbody>\n",
       "</table>\n",
       "</div>"
      ],
      "text/plain": [
       "   danceability  energy  key  loudness  mode  speechiness  acousticness  \\\n",
       "0         0.392    0.95    8     -3.52     0       0.0922      0.000095   \n",
       "\n",
       "   instrumentalness  liveness  valence    tempo  duration_ms  time_signature  \n",
       "0          0.000252     0.188    0.631  172.963       206373               4  "
      ]
     },
     "execution_count": 4,
     "metadata": {},
     "output_type": "execute_result"
    }
   ],
   "source": [
    "track = pd.DataFrame(sp.audio_features(\"1Mxhti2c2uN1hhjN9kxLqY\"))\n",
    "track_features = track.drop([\"type\",\"id\",\"uri\",\"track_href\",\"analysis_url\"],axis=1)\n",
    "\n",
    "track_features"
   ]
  },
  {
   "cell_type": "markdown",
   "metadata": {},
   "source": [
    "## Getting playlists for a variety of genres"
   ]
  },
  {
   "cell_type": "code",
   "execution_count": 23,
   "metadata": {},
   "outputs": [
    {
     "data": {
      "text/plain": [
       "[('pop', 'pop'),\n",
       " ('pop', 'dance pop'),\n",
       " ('pop', 'post-teen pop'),\n",
       " ('hip hop', 'hip hop'),\n",
       " ('hip hop', 'rap'),\n",
       " ('hip hop', 'gangster rap'),\n",
       " ('rock', 'rock'),\n",
       " ('rock', 'classic rock'),\n",
       " ('rock', 'permanent wave'),\n",
       " ('edm', 'edm'),\n",
       " ('edm', 'electro house'),\n",
       " ('edm', 'big room'),\n",
       " ('latin', 'tropical'),\n",
       " ('latin', 'latin pop'),\n",
       " ('latin', 'reggaeton'),\n",
       " ('metal', 'metal'),\n",
       " ('metal', 'speed metal'),\n",
       " ('metal', 'hard rock')]"
      ]
     },
     "execution_count": 23,
     "metadata": {},
     "output_type": "execute_result"
    }
   ],
   "source": [
    "# http://everynoise.com/everynoise1d.cgi?scope=all\n",
    "\n",
    "generes  = {'pop':['pop','dance pop', 'post-teen pop', 'electropop', 'tropical house'],\n",
    "            'hip hop':['hip hop','rap','gangster rap','southern hip hop','hardcore hip hop','conscious hip hop','east coast hip hop','alternative hip hop'],            \n",
    "            'rock':['rock','classic rock', 'permanent wave', 'hard rock', 'modern rock','alternative rock'],\n",
    "            'edm':['edm','electro house', 'big room', 'pop edm', 'progressive electro house'],\n",
    "            'latin':['tropical', 'latin pop', 'reggaeton', 'latin hip hop'],\n",
    "            'metal':['metal','speed metal','hard rock','death metal','thrash metal','power metal']\n",
    "            }\n",
    "\n",
    "\n",
    "genres_subgenres = [(g,sg) for g in generes.keys() for sg in generes[g][:3]]\n",
    "genres_subgenres"
   ]
  },
  {
   "cell_type": "code",
   "execution_count": 24,
   "metadata": {},
   "outputs": [],
   "source": [
    "def build_playlists():\n",
    "    playlists = pd.DataFrame()\n",
    "    for genre,subgenre in genres_subgenres:\n",
    "        subgenre_playlists = sp.search(subgenre, limit=2, offset=0, type='playlist', market=\"US\")\n",
    "\n",
    "        df = pd.DataFrame(subgenre_playlists[\"playlists\"])\n",
    "        df = df[[\"items\"]]\n",
    "        df[\"playlist_id\"] = df[\"items\"].apply(lambda x:x[\"id\"])\n",
    "        df[\"playlist_name\"] = df[\"items\"].apply(lambda x:x[\"name\"])\n",
    "        df[\"playlist_genre\"], df[\"playlist_subgenre\"] = genre , subgenre\n",
    "        df.drop(\"items\",axis=1,inplace=True)\n",
    "        playlists = pd.concat([playlists,df],ignore_index=True)\n",
    "\n",
    "    playlists.drop_duplicates(subset=[\"playlist_id\"],inplace=True)\n",
    "    \n",
    "    return playlists"
   ]
  },
  {
   "cell_type": "markdown",
   "metadata": {},
   "source": [
    "# Building dataframes from tracks, artists, and features"
   ]
  },
  {
   "cell_type": "code",
   "execution_count": 25,
   "metadata": {},
   "outputs": [],
   "source": [
    "def build_dataframes(playlists):\n",
    "    tracks = pd.DataFrame(columns=[\"playlist_id\",\"track_id\",\"track_name\",\"track_popularity\"])\n",
    "    artists = pd.DataFrame(columns=[\"track_id\",\"artist_id\",\"artist_name\"])\n",
    "    features = pd.DataFrame()\n",
    "    \n",
    "    for playlist_id in playlists[\"playlist_id\"]:\n",
    "\n",
    "        # getting tracks \n",
    "        playlists_tracks = pd.DataFrame(sp.playlist_tracks(playlist_id))[\"items\"]\n",
    "        for track in playlists_tracks:\n",
    "            tracks = tracks.append( {\n",
    "                            \"playlist_id\": playlist_id,\n",
    "                            \"track_id\": track[\"track\"][\"id\"],\n",
    "                            \"track_name\": track[\"track\"][\"name\"],\n",
    "                            \"track_popularity\": track[\"track\"][\"popularity\"]\n",
    "                           }\n",
    "                        ,ignore_index=True)\n",
    "\n",
    "\n",
    "        # getting artists \n",
    "        playlists_tracks = pd.DataFrame(sp.playlist_tracks(playlist_id))[\"items\"]\n",
    "        for track in playlists_tracks:\n",
    "            for artist in  track[\"track\"][\"artists\"]:\n",
    "                artists = artists.append( {\n",
    "                                \"track_id\": track[\"track\"][\"id\"],\n",
    "                                \"artist_id\": artist[\"id\"],\n",
    "                                \"artist_name\": artist[\"name\"]\n",
    "                               }\n",
    "                            ,ignore_index=True)\n",
    "\n",
    "\n",
    "\n",
    "        # getting features \n",
    "        tracks_of_playlist = tracks[(~tracks[\"track_id\"].isnull()) &\n",
    "                                    (tracks[\"playlist_id\"]==playlist_id) \n",
    "                                   ][\"track_id\"]\n",
    "        \n",
    "        try:\n",
    "            features = pd.concat([features, \n",
    "                                  pd.DataFrame(sp.audio_features(tracks_of_playlist))\n",
    "                                ])\n",
    "        except:\n",
    "            pass\n",
    "    return tracks,artists,features\n"
   ]
  },
  {
   "cell_type": "markdown",
   "metadata": {},
   "source": [
    "## Merging our dataframes on track_id"
   ]
  },
  {
   "cell_type": "code",
   "execution_count": 26,
   "metadata": {},
   "outputs": [],
   "source": [
    "def merge_dataframes(tracks,playlists,features):\n",
    "    songs = tracks.merge(playlists, how=\"left\",on=\"playlist_id\")\n",
    "    songs = songs.merge(features, how=\"left\",left_on=\"track_id\",right_on=\"id\")\n",
    "    songs.drop([\"id\",\"uri\",\"track_href\",\"analysis_url\",\"type\",\"analysis_url\"],axis=1,inplace=True)\n",
    "    \n",
    "    return songs"
   ]
  },
  {
   "cell_type": "markdown",
   "metadata": {},
   "source": [
    "# Buidling everything, or loading from pickle/mongo"
   ]
  },
  {
   "cell_type": "code",
   "execution_count": 27,
   "metadata": {},
   "outputs": [
    {
     "data": {
      "text/html": [
       "<div>\n",
       "<style scoped>\n",
       "    .dataframe tbody tr th:only-of-type {\n",
       "        vertical-align: middle;\n",
       "    }\n",
       "\n",
       "    .dataframe tbody tr th {\n",
       "        vertical-align: top;\n",
       "    }\n",
       "\n",
       "    .dataframe thead th {\n",
       "        text-align: right;\n",
       "    }\n",
       "</style>\n",
       "<table border=\"1\" class=\"dataframe\">\n",
       "  <thead>\n",
       "    <tr style=\"text-align: right;\">\n",
       "      <th></th>\n",
       "      <th>playlist_id</th>\n",
       "      <th>track_id</th>\n",
       "      <th>track_name</th>\n",
       "      <th>track_popularity</th>\n",
       "      <th>playlist_name</th>\n",
       "      <th>playlist_genre</th>\n",
       "      <th>playlist_subgenre</th>\n",
       "      <th>danceability</th>\n",
       "      <th>energy</th>\n",
       "      <th>key</th>\n",
       "      <th>loudness</th>\n",
       "      <th>mode</th>\n",
       "      <th>speechiness</th>\n",
       "      <th>acousticness</th>\n",
       "      <th>instrumentalness</th>\n",
       "      <th>liveness</th>\n",
       "      <th>valence</th>\n",
       "      <th>tempo</th>\n",
       "      <th>duration_ms</th>\n",
       "      <th>time_signature</th>\n",
       "    </tr>\n",
       "  </thead>\n",
       "  <tbody>\n",
       "    <tr>\n",
       "      <th>259</th>\n",
       "      <td>37i9dQZF1DWZQaaqNMbbXa</td>\n",
       "      <td>0ZXdzaT1k688dkpNeEgQiV</td>\n",
       "      <td>I Don't Know Why</td>\n",
       "      <td>77</td>\n",
       "      <td>Dance Pop</td>\n",
       "      <td>pop</td>\n",
       "      <td>dance pop</td>\n",
       "      <td>0.499</td>\n",
       "      <td>0.898</td>\n",
       "      <td>8.0</td>\n",
       "      <td>-4.181</td>\n",
       "      <td>0.0</td>\n",
       "      <td>0.124</td>\n",
       "      <td>0.12400</td>\n",
       "      <td>0.000007</td>\n",
       "      <td>0.0832</td>\n",
       "      <td>0.618</td>\n",
       "      <td>120.040</td>\n",
       "      <td>207668.0</td>\n",
       "      <td>4.0</td>\n",
       "    </tr>\n",
       "    <tr>\n",
       "      <th>595</th>\n",
       "      <td>37i9dQZF1DWY6tYEFs22tT</td>\n",
       "      <td>4Hpib09wXgD84w4uwTPnYD</td>\n",
       "      <td>Tap In</td>\n",
       "      <td>82</td>\n",
       "      <td>Hip-Hop Central</td>\n",
       "      <td>hip hop</td>\n",
       "      <td>hip hop</td>\n",
       "      <td>0.954</td>\n",
       "      <td>0.696</td>\n",
       "      <td>10.0</td>\n",
       "      <td>-7.117</td>\n",
       "      <td>0.0</td>\n",
       "      <td>0.204</td>\n",
       "      <td>0.00576</td>\n",
       "      <td>0.000498</td>\n",
       "      <td>0.0754</td>\n",
       "      <td>0.432</td>\n",
       "      <td>100.036</td>\n",
       "      <td>139413.0</td>\n",
       "      <td>4.0</td>\n",
       "    </tr>\n",
       "    <tr>\n",
       "      <th>624</th>\n",
       "      <td>2ZuNK8V8pJMnBRiNxBcGN3</td>\n",
       "      <td>0c7ec19W1r6eqpqOsbOjkt</td>\n",
       "      <td>Just A Lil Bit</td>\n",
       "      <td>0</td>\n",
       "      <td>Crusing hip-hop</td>\n",
       "      <td>hip hop</td>\n",
       "      <td>hip hop</td>\n",
       "      <td>0.697</td>\n",
       "      <td>0.626</td>\n",
       "      <td>10.0</td>\n",
       "      <td>-8.957</td>\n",
       "      <td>0.0</td>\n",
       "      <td>0.338</td>\n",
       "      <td>0.04100</td>\n",
       "      <td>0.004400</td>\n",
       "      <td>0.3330</td>\n",
       "      <td>0.505</td>\n",
       "      <td>96.588</td>\n",
       "      <td>237707.0</td>\n",
       "      <td>4.0</td>\n",
       "    </tr>\n",
       "  </tbody>\n",
       "</table>\n",
       "</div>"
      ],
      "text/plain": [
       "                playlist_id                track_id        track_name  \\\n",
       "259  37i9dQZF1DWZQaaqNMbbXa  0ZXdzaT1k688dkpNeEgQiV  I Don't Know Why   \n",
       "595  37i9dQZF1DWY6tYEFs22tT  4Hpib09wXgD84w4uwTPnYD            Tap In   \n",
       "624  2ZuNK8V8pJMnBRiNxBcGN3  0c7ec19W1r6eqpqOsbOjkt    Just A Lil Bit   \n",
       "\n",
       "    track_popularity    playlist_name playlist_genre playlist_subgenre  \\\n",
       "259               77        Dance Pop            pop         dance pop   \n",
       "595               82  Hip-Hop Central        hip hop           hip hop   \n",
       "624                0  Crusing hip-hop        hip hop           hip hop   \n",
       "\n",
       "     danceability  energy   key  loudness  mode  speechiness  acousticness  \\\n",
       "259         0.499   0.898   8.0    -4.181   0.0        0.124       0.12400   \n",
       "595         0.954   0.696  10.0    -7.117   0.0        0.204       0.00576   \n",
       "624         0.697   0.626  10.0    -8.957   0.0        0.338       0.04100   \n",
       "\n",
       "     instrumentalness  liveness  valence    tempo  duration_ms  time_signature  \n",
       "259          0.000007    0.0832    0.618  120.040     207668.0             4.0  \n",
       "595          0.000498    0.0754    0.432  100.036     139413.0             4.0  \n",
       "624          0.004400    0.3330    0.505   96.588     237707.0             4.0  "
      ]
     },
     "execution_count": 27,
     "metadata": {},
     "output_type": "execute_result"
    }
   ],
   "source": [
    "if \"songs.pkl\" in os.listdir():\n",
    "    with open(\"songs.pkl\",\"rb\") as f:\n",
    "        songs = pickle.load(f)\n",
    "    \n",
    "else:\n",
    "    playlists = build_playlists()\n",
    "    tracks,artists,features = build_dataframes(playlists)\n",
    "    songs = merge_dataframes(tracks,playlists,features)\n",
    "\n",
    "    with open(\"songs.pkl\",\"wb\") as f:\n",
    "        pickle.dump(songs,f)\n",
    "\n",
    "        \n",
    "songs.sample(3)"
   ]
  },
  {
   "cell_type": "markdown",
   "metadata": {},
   "source": [
    "## I used mongo since I needed to query it as user taste "
   ]
  },
  {
   "cell_type": "code",
   "execution_count": 28,
   "metadata": {},
   "outputs": [],
   "source": [
    "import pymongo\n",
    "\n",
    "client = pymongo.MongoClient(\"mongodb://localhost:27017/\")\n",
    "db = client[\"spotify\"]\n",
    "collection = db[\"user_taste\"]\n",
    "\n",
    "features_dict = songs.to_dict(\"list\")\n",
    "features_dict[\"type\"] = \"all\"\n",
    "features_dict[\"last_update\"] = time.time()\n",
    "\n",
    "x= collection.update_one({\"type\":\"all\"},{\"$set\":features_dict},upsert=True)\n",
    "\n"
   ]
  },
  {
   "cell_type": "code",
   "execution_count": null,
   "metadata": {},
   "outputs": [],
   "source": []
  }
 ],
 "metadata": {
  "kernelspec": {
   "display_name": "Python 3",
   "language": "python",
   "name": "python3"
  },
  "language_info": {
   "codemirror_mode": {
    "name": "ipython",
    "version": 3
   },
   "file_extension": ".py",
   "mimetype": "text/x-python",
   "name": "python",
   "nbconvert_exporter": "python",
   "pygments_lexer": "ipython3",
   "version": "3.8.5"
  }
 },
 "nbformat": 4,
 "nbformat_minor": 4
}
